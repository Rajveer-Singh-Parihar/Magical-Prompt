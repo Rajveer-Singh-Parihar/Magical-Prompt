{
 "cells": [
  {
   "cell_type": "code",
   "execution_count": 10,
   "id": "6cad3445-5d00-42f7-9995-8a85bbf1c645",
   "metadata": {},
   "outputs": [
    {
     "name": "stdout",
     "output_type": "stream",
     "text": [
      "Rajveer Singh\n"
     ]
    }
   ],
   "source": [
    "\n",
    "print(\"Rajveer Singh\")"
   ]
  },
  {
   "cell_type": "code",
   "execution_count": 1,
   "id": "e8909088-988f-4fa0-b7de-0d14d7615e31",
   "metadata": {},
   "outputs": [
    {
     "name": "stdout",
     "output_type": "stream",
     "text": [
      "5\n"
     ]
    }
   ],
   "source": [
    "x =5 \n",
    "print(x)"
   ]
  },
  {
   "cell_type": "code",
   "execution_count": 2,
   "id": "e26fdea1-d9f3-4b61-a483-efed58cecdec",
   "metadata": {},
   "outputs": [
    {
     "name": "stdout",
     "output_type": "stream",
     "text": [
      "orange Apple Banana\n"
     ]
    }
   ],
   "source": [
    "x,y,z = \"orange\" ,\"Apple\" , \"Banana\"\n",
    "print(x,y,z)"
   ]
  },
  {
   "cell_type": "code",
   "execution_count": 3,
   "id": "f68db80f-bc7c-43a7-8aa6-ed4cea371d94",
   "metadata": {},
   "outputs": [
    {
     "name": "stdout",
     "output_type": "stream",
     "text": [
      "orange\n",
      "orange\n",
      "orange\n"
     ]
    }
   ],
   "source": [
    "x=y=z=\"orange\"\n",
    "print(x)\n",
    "print(y)\n",
    "print(z)"
   ]
  },
  {
   "cell_type": "code",
   "execution_count": 7,
   "id": "db7e72e3-c806-4c88-a742-3448960d46c0",
   "metadata": {},
   "outputs": [
    {
     "name": "stdout",
     "output_type": "stream",
     "text": [
      "5\n"
     ]
    }
   ],
   "source": [
    "a = 5\n",
    "print(a)\n"
   ]
  },
  {
   "cell_type": "code",
   "execution_count": 9,
   "id": "49488b8f-17ee-42f1-bd92-0c3405220acf",
   "metadata": {},
   "outputs": [
    {
     "name": "stdout",
     "output_type": "stream",
     "text": [
      "Python is Amazing\n",
      "\n",
      "Python\n",
      "is\n",
      "Amazing\n"
     ]
    }
   ],
   "source": [
    "x=\"Python\"\n",
    "y=\"is\"\n",
    "z=\"Amazing\"\n",
    "print(x,y,z)\n",
    "\n",
    "print()\n",
    "print(x)\n",
    "print(y)\n",
    "print(z)"
   ]
  },
  {
   "cell_type": "code",
   "execution_count": 10,
   "id": "5868d566-b2e1-420b-a992-d83cd4b10630",
   "metadata": {},
   "outputs": [
    {
     "name": "stdout",
     "output_type": "stream",
     "text": [
      "8.77\n"
     ]
    }
   ],
   "source": [
    "a=5\n",
    "b=3.77\n",
    "print(a+b)"
   ]
  },
  {
   "cell_type": "code",
   "execution_count": 12,
   "id": "c3b8ec5f-7b0e-48e0-bfae-119bd8f7accd",
   "metadata": {},
   "outputs": [
    {
     "name": "stdout",
     "output_type": "stream",
     "text": [
      "(8+6j)\n"
     ]
    }
   ],
   "source": [
    "a = 5+6j\n",
    "b= 3\n",
    "print(a+b)"
   ]
  },
  {
   "cell_type": "code",
   "execution_count": 13,
   "id": "5b1fb9bd-213d-454c-ab5f-5c704c8f134b",
   "metadata": {},
   "outputs": [
    {
     "name": "stdout",
     "output_type": "stream",
     "text": [
      "25\n"
     ]
    }
   ],
   "source": [
    "a=5\n",
    "print(a**2)"
   ]
  },
  {
   "cell_type": "code",
   "execution_count": 15,
   "id": "d5db657e-f3bc-44fe-bc4a-78bc7e22a179",
   "metadata": {},
   "outputs": [
    {
     "name": "stdout",
     "output_type": "stream",
     "text": [
      "False\n"
     ]
    }
   ],
   "source": [
    "a= True\n",
    "b= False\n",
    "print(a and b)"
   ]
  },
  {
   "cell_type": "code",
   "execution_count": 16,
   "id": "6f48e752-11a2-4988-89b0-861eb3fc72ed",
   "metadata": {},
   "outputs": [
    {
     "name": "stdout",
     "output_type": "stream",
     "text": [
      "True\n"
     ]
    }
   ],
   "source": [
    "a= True\n",
    "b= False\n",
    "print(a or b)"
   ]
  },
  {
   "cell_type": "code",
   "execution_count": 17,
   "id": "6cbaa60a-895d-4d82-bf48-a053987b12c8",
   "metadata": {},
   "outputs": [
    {
     "name": "stdout",
     "output_type": "stream",
     "text": [
      "False\n"
     ]
    }
   ],
   "source": [
    "a=False\n",
    "b= False\n",
    "print(a and b)"
   ]
  },
  {
   "cell_type": "code",
   "execution_count": 2,
   "id": "f0ca9b27-cd37-486e-b749-4ea94a29dff1",
   "metadata": {},
   "outputs": [
    {
     "name": "stdout",
     "output_type": "stream",
     "text": [
      "['False', 'None', 'True', 'and', 'as', 'assert', 'async', 'await', 'break', 'class', 'continue', 'def', 'del', 'elif', 'else', 'except', 'finally', 'for', 'from', 'global', 'if', 'import', 'in', 'is', 'lambda', 'nonlocal', 'not', 'or', 'pass', 'raise', 'return', 'try', 'while', 'with', 'yield']\n"
     ]
    }
   ],
   "source": [
    "import keyword\n",
    "print(keyword.kwlist)"
   ]
  },
  {
   "cell_type": "code",
   "execution_count": 3,
   "id": "4e0537af-29fc-4926-b80b-ea5a03c2e75f",
   "metadata": {},
   "outputs": [
    {
     "name": "stdout",
     "output_type": "stream",
     "text": [
      "7.5\n"
     ]
    }
   ],
   "source": [
    "x = abs(-7.5)\n",
    "print(x)"
   ]
  },
  {
   "cell_type": "code",
   "execution_count": 4,
   "id": "8424c5d1-e5b6-4917-8a7e-1cca741d06d3",
   "metadata": {},
   "outputs": [
    {
     "name": "stdout",
     "output_type": "stream",
     "text": [
      "0b111\n"
     ]
    }
   ],
   "source": [
    "x = bin(7)\n",
    "print(x)"
   ]
  },
  {
   "cell_type": "code",
   "execution_count": 5,
   "id": "bac3e17c-31e8-4eaf-b36d-d96ef1bb379b",
   "metadata": {},
   "outputs": [
    {
     "name": "stdout",
     "output_type": "stream",
     "text": [
      "b'\\x00\\x00\\x00\\x00\\x00\\x00\\x00\\x00\\x00\\x00\\x00\\x00\\x00\\x00\\x00\\x00\\x00\\x00\\x00\\x00\\x00\\x00\\x00\\x00\\x00\\x00\\x00\\x00\\x00\\x00\\x00\\x00\\x00\\x00\\x00\\x00\\x00\\x00\\x00\\x00\\x00\\x00\\x00\\x00'\n"
     ]
    }
   ],
   "source": [
    "x = bytes(44)\n",
    "print(x)"
   ]
  },
  {
   "cell_type": "code",
   "execution_count": 6,
   "id": "ab3f1cfd-3ea0-4b0f-b3ee-3fc082685b45",
   "metadata": {},
   "outputs": [
    {
     "name": "stdout",
     "output_type": "stream",
     "text": [
      "(4+8j)\n"
     ]
    }
   ],
   "source": [
    "x = complex(4,8)\n",
    "print(x)"
   ]
  },
  {
   "cell_type": "code",
   "execution_count": 7,
   "id": "50e8e47d-7232-4daa-9a2a-6e8ea97f5111",
   "metadata": {},
   "outputs": [
    {
     "name": "stdout",
     "output_type": "stream",
     "text": [
      "66\n"
     ]
    }
   ],
   "source": [
    "x =int(66.6)\n",
    "print(x)"
   ]
  },
  {
   "cell_type": "code",
   "execution_count": 10,
   "id": "49c40b88-b164-447f-9af2-2e95d5983cde",
   "metadata": {},
   "outputs": [
    {
     "name": "stdout",
     "output_type": "stream",
     "text": [
      "333\n"
     ]
    }
   ],
   "source": [
    "a=str(\"333\")\n",
    "print(a)"
   ]
  },
  {
   "cell_type": "code",
   "execution_count": 11,
   "id": "0abe5132-68ce-4660-953b-7de704822b0b",
   "metadata": {},
   "outputs": [
    {
     "name": "stdin",
     "output_type": "stream",
     "text": [
      "Enter YOur Age 22\n"
     ]
    },
    {
     "name": "stdout",
     "output_type": "stream",
     "text": [
      "22\n"
     ]
    }
   ],
   "source": [
    "x= int(input(\"Enter YOur Age\"))\n",
    "print(x)"
   ]
  },
  {
   "cell_type": "code",
   "execution_count": 17,
   "id": "363ad84a-5a56-4ddf-9ac2-cb60b9d61d79",
   "metadata": {},
   "outputs": [
    {
     "name": "stdin",
     "output_type": "stream",
     "text": [
      "Enter the Name of the Student Rajveer\n",
      "Entre the marks of the english 88\n",
      "Entre the marks of the hindi 90\n",
      "Entre the marks of the maths 89\n",
      "Entre the marks of the physics 97\n",
      "Entre the marks of the maths 95\n"
     ]
    },
    {
     "name": "stdout",
     "output_type": "stream",
     "text": [
      "The Marks obtin by rhe student 91.8\n"
     ]
    }
   ],
   "source": [
    "x= input(\"Enter the Name of the Student\")\n",
    "a = int(input(\"Entre the marks of the english\"))\n",
    "b= int(input(\"Entre the marks of the hindi\"))\n",
    "c = int(input(\"Entre the marks of the maths\"))\n",
    "d = int(input(\"Entre the marks of the physics\"))\n",
    "e = int(input(\"Entre the marks of the maths\"))\n",
    "n=((a+b+c+d+e)/500)*100\n",
    "print(\"The Marks obtin by rhe student\",n)"
   ]
  },
  {
   "cell_type": "code",
   "execution_count": 19,
   "id": "86624f2a-7bd6-498e-a811-344cdd2db989",
   "metadata": {},
   "outputs": [
    {
     "name": "stdin",
     "output_type": "stream",
     "text": [
      "Ener the number 44\n"
     ]
    },
    {
     "name": "stdout",
     "output_type": "stream",
     "text": [
      "Bye Sir\n"
     ]
    }
   ],
   "source": [
    "a = int(input(\"Ener the number\"))\n",
    "if a%5==0:\n",
    "    print(\"HEllo Sir\")\n",
    "else:\n",
    "    print(\"Bye Sir\")"
   ]
  },
  {
   "cell_type": "code",
   "execution_count": 22,
   "id": "cc0befb9-e0b4-4b3f-af7f-6a49b033e396",
   "metadata": {},
   "outputs": [
    {
     "name": "stdin",
     "output_type": "stream",
     "text": [
      "Enter your city name Delhi\n"
     ]
    },
    {
     "name": "stdout",
     "output_type": "stream",
     "text": [
      "Welcome to delhi\n"
     ]
    }
   ],
   "source": [
    "city = input(\"Enter your city name\")\n",
    "if city == \"Delhi\":print(\"Welcome to delhi\")\n",
    "elif city == \"Mumbai\":print(\"Welcome to mumbai\")\n",
    "else:print(\"PLease PUt The correct City\")"
   ]
  },
  {
   "cell_type": "code",
   "execution_count": 1,
   "id": "069a9b38-dcc7-4352-939c-6fc14da60dc4",
   "metadata": {},
   "outputs": [
    {
     "name": "stdout",
     "output_type": "stream",
     "text": [
      "1\n",
      "2\n",
      "3\n",
      "4\n",
      "5\n"
     ]
    }
   ],
   "source": [
    "x = 1\n",
    "while x<=5:\n",
    "    print(x)\n",
    "    x = x+1"
   ]
  },
  {
   "cell_type": "code",
   "execution_count": 2,
   "id": "0415a22f-9547-4b5d-bf22-7c6113a9090e",
   "metadata": {},
   "outputs": [
    {
     "name": "stdout",
     "output_type": "stream",
     "text": [
      "1\n",
      "2\n",
      "3\n",
      "4\n",
      "5\n"
     ]
    }
   ],
   "source": [
    "i=1\n",
    "n=5 \n",
    "while i<=n:\n",
    "    print(i)\n",
    "    i=i+1"
   ]
  },
  {
   "cell_type": "code",
   "execution_count": 3,
   "id": "8fd3ad93-2803-4538-b72e-f49c8114ccb0",
   "metadata": {},
   "outputs": [
    {
     "name": "stdout",
     "output_type": "stream",
     "text": [
      "1\n",
      "2\n",
      "4\n",
      "7\n",
      "11\n"
     ]
    }
   ],
   "source": [
    "x=1\n",
    "y=1\n",
    "while x<=5:\n",
    "    print(y)\n",
    "    y=y+x\n",
    "    x=x+1"
   ]
  },
  {
   "cell_type": "code",
   "execution_count": 4,
   "id": "73f48600-e24b-4aa1-8ad3-e0119d2c3696",
   "metadata": {},
   "outputs": [
    {
     "name": "stdin",
     "output_type": "stream",
     "text": [
      "Enter a Value 5\n"
     ]
    },
    {
     "name": "stdout",
     "output_type": "stream",
     "text": [
      "5\n",
      "10\n",
      "15\n",
      "20\n",
      "25\n",
      "30\n",
      "35\n",
      "40\n",
      "45\n",
      "50\n"
     ]
    }
   ],
   "source": [
    "x= int(input(\"Enter a Value\"))\n",
    "i=1\n",
    "while i<=10:\n",
    "    print(x*i)\n",
    "    i+=1"
   ]
  },
  {
   "cell_type": "code",
   "execution_count": 9,
   "id": "cc5d4366-f121-4b63-95ce-6a616b46230b",
   "metadata": {},
   "outputs": [
    {
     "name": "stdout",
     "output_type": "stream",
     "text": [
      "Apple\n",
      "Shetafal\n",
      "Jamun\n",
      "Mango\n"
     ]
    }
   ],
   "source": [
    "fruits = [\"Apple\",\"Shetafal\",\"Jamun\",\"Mango\"]\n",
    "for i in fruits : print(i)"
   ]
  },
  {
   "cell_type": "code",
   "execution_count": 10,
   "id": "038d2577-a725-4259-ba18-eccef89bee2a",
   "metadata": {},
   "outputs": [
    {
     "name": "stdout",
     "output_type": "stream",
     "text": [
      "B\n",
      "a\n",
      "n\n",
      "a\n",
      "n\n",
      "a\n"
     ]
    }
   ],
   "source": [
    "for x in \"Banana\": print(x)"
   ]
  },
  {
   "cell_type": "code",
   "execution_count": 11,
   "id": "678b76e3-f36a-4259-ac85-5d895ec086ac",
   "metadata": {},
   "outputs": [
    {
     "name": "stdout",
     "output_type": "stream",
     "text": [
      "0\n",
      "1\n",
      "2\n",
      "3\n",
      "4\n",
      "5\n",
      "6\n",
      "7\n",
      "8\n",
      "9\n"
     ]
    }
   ],
   "source": [
    "for x in range(10): print(x)"
   ]
  },
  {
   "cell_type": "code",
   "execution_count": 14,
   "id": "8921eb9b-965f-4765-9a90-3d8738e584c6",
   "metadata": {},
   "outputs": [
    {
     "name": "stdout",
     "output_type": "stream",
     "text": [
      "0\n",
      "1\n",
      "2\n",
      "3\n",
      "4\n"
     ]
    }
   ],
   "source": [
    "for x in range(5): print(x)"
   ]
  },
  {
   "cell_type": "code",
   "execution_count": 17,
   "id": "9f28686e-0084-4200-b606-f655b0bb3716",
   "metadata": {},
   "outputs": [
    {
     "name": "stdin",
     "output_type": "stream",
     "text": [
      "Enter Any Number 7\n"
     ]
    },
    {
     "name": "stdout",
     "output_type": "stream",
     "text": [
      "7\n",
      "14\n",
      "21\n",
      "28\n",
      "35\n",
      "42\n",
      "49\n",
      "56\n",
      "63\n",
      "70\n"
     ]
    }
   ],
   "source": [
    "x = int (input(\"Enter Any Number\"))\n",
    "for i in range(1,11) :\n",
    "    print(x*i)"
   ]
  },
  {
   "cell_type": "code",
   "execution_count": 22,
   "id": "244d61eb-44be-4ddc-9548-fbe69add3e59",
   "metadata": {},
   "outputs": [
    {
     "name": "stdout",
     "output_type": "stream",
     "text": [
      "3\n",
      "6\n",
      "9\n",
      "12\n",
      "18\n",
      "21\n",
      "24\n",
      "27\n",
      "30\n"
     ]
    }
   ],
   "source": [
    "num = 3 \n",
    "for i in range(1,11):\n",
    "    if i ==5 :\n",
    "        continue\n",
    "    print(num*i)\n"
   ]
  },
  {
   "cell_type": "code",
   "execution_count": 24,
   "id": "57702b8b-24a7-4751-982d-ec77458c1c2a",
   "metadata": {},
   "outputs": [
    {
     "name": "stdout",
     "output_type": "stream",
     "text": [
      "2\n",
      "4\n",
      "5\n",
      "7\n",
      "8\n",
      "10\n",
      "11\n",
      "13\n",
      "14\n",
      "16\n",
      "17\n",
      "19\n"
     ]
    }
   ],
   "source": [
    "for i in range (2,20):\n",
    "    if i%3==0:\n",
    "        continue\n",
    "    else:\n",
    "        print(i)"
   ]
  },
  {
   "cell_type": "code",
   "execution_count": 25,
   "id": "397b938f-8236-41b7-bfe8-65b1db2a7ea1",
   "metadata": {},
   "outputs": [
    {
     "name": "stdout",
     "output_type": "stream",
     "text": [
      "Hello Raj\n"
     ]
    }
   ],
   "source": [
    "def raj():\n",
    "    print(\"Hello Raj\")\n",
    "raj()"
   ]
  },
  {
   "cell_type": "code",
   "execution_count": 26,
   "id": "87a023ac-43ac-452a-9d02-14918c16bc0a",
   "metadata": {},
   "outputs": [
    {
     "name": "stdout",
     "output_type": "stream",
     "text": [
      "Hello Rajveer Parihar\n"
     ]
    }
   ],
   "source": [
    "def RajName(fname , Lname):\n",
    "    print(\"Hello\",fname ,Lname)\n",
    "RajName(\"Rajveer\",\"Parihar\")"
   ]
  },
  {
   "cell_type": "code",
   "execution_count": null,
   "id": "994d42e2-2d9b-4c40-b0bb-6e2c7fa58ec9",
   "metadata": {},
   "outputs": [
    {
     "name": "stdin",
     "output_type": "stream",
     "text": [
      "Enter Your Namer Rajveer Singh Parihar\n",
      "Eter Marks of Science 90\n",
      "Eter Marks of Maths 90\n",
      "Eter Marks of Social 89\n"
     ]
    },
    {
     "name": "stdout",
     "output_type": "stream",
     "text": [
      "\n",
      "Contact Details Of the School\n",
      "Delhi Public School\n",
      "Banglore\n",
      "5656354543\n",
      "dps.school@gmail.com\n"
     ]
    }
   ],
   "source": [
    "def contact():\n",
    "    print(\"Contact Details Of the School\")\n",
    "    print(\"Delhi Public School\")\n",
    "    print(\"Banglore\")\n",
    "    print(\"5656354543\")\n",
    "    print(\"dps.school@gmail.com\")\n",
    "for i in range(4):\n",
    "    a = input(\"Enter Your Namer\")\n",
    "    b= int(input(\"Eter Marks of Science\"))\n",
    "    c= int(input(\"Eter Marks of Maths\"))\n",
    "    d= int(input(\"Eter Marks of Social\"))\n",
    "    print()\n",
    "    contact()"
   ]
  },
  {
   "cell_type": "code",
   "execution_count": 1,
   "id": "20ac9056-a3b2-4433-80bf-e90bd6a0b5e9",
   "metadata": {},
   "outputs": [
    {
     "name": "stdout",
     "output_type": "stream",
     "text": [
      "RajveerBanna\n",
      "AkshhatBanna\n"
     ]
    }
   ],
   "source": [
    "def myName(fname):\n",
    "    print(fname + \"Banna\")\n",
    "myName(\"Rajveer\")\n",
    "myName(\"Akshhat\")\n"
   ]
  },
  {
   "cell_type": "code",
   "execution_count": 17,
   "id": "d3f44a47-72a9-43cc-b5de-cb6873adac2f",
   "metadata": {},
   "outputs": [
    {
     "name": "stdout",
     "output_type": "stream",
     "text": [
      "30\n"
     ]
    }
   ],
   "source": [
    "def add(x,y):\n",
    "    z=x+y\n",
    "    print(z)\n",
    "add(10,20)"
   ]
  },
  {
   "cell_type": "code",
   "execution_count": 19,
   "id": "782d03eb-2d9c-40ee-a8a9-03b88c969e7a",
   "metadata": {},
   "outputs": [
    {
     "name": "stdout",
     "output_type": "stream",
     "text": [
      "150\n",
      "145\n"
     ]
    }
   ],
   "source": [
    "def add(x,y,z=0):\n",
    "    t=x+y+z\n",
    "    print(t)\n",
    "add(100,20,30)\n",
    "add(123,22)"
   ]
  },
  {
   "cell_type": "code",
   "execution_count": 8,
   "id": "52c4f337-c4d1-48e9-9c2e-9e264d4a50ea",
   "metadata": {},
   "outputs": [
    {
     "name": "stdout",
     "output_type": "stream",
     "text": [
      "120\n"
     ]
    }
   ],
   "source": [
    "def factorial(n):\n",
    "    if n==1:\n",
    "        return 1\n",
    "    else:\n",
    "        return n * factorial(n-1)\n",
    "print(factorial(5))"
   ]
  },
  {
   "cell_type": "code",
   "execution_count": 9,
   "id": "f458d8b5-7078-4583-a887-09945e6d41f6",
   "metadata": {},
   "outputs": [
    {
     "name": "stdout",
     "output_type": "stream",
     "text": [
      "['Tommy', 'Tonnt', 'Baba']\n"
     ]
    }
   ],
   "source": [
    "friends_List = [\"Tommy\",\"Tonnt\",\"Baba\"]\n",
    "print(friends_List)"
   ]
  },
  {
   "cell_type": "code",
   "execution_count": 3,
   "id": "1afbbb7a-5de3-43e6-babd-95affa998765",
   "metadata": {},
   "outputs": [
    {
     "name": "stdout",
     "output_type": "stream",
     "text": [
      "12\n"
     ]
    }
   ],
   "source": [
    "multiply = lambda x,y: x*y\n",
    "print(multiply(3,4))"
   ]
  },
  {
   "cell_type": "code",
   "execution_count": 4,
   "id": "9d94ed22-bfeb-4336-969e-ebc5860cbfed",
   "metadata": {},
   "outputs": [
    {
     "name": "stdout",
     "output_type": "stream",
     "text": [
      "(12, -6)\n"
     ]
    }
   ],
   "source": [
    "perform = lambda a,b :( a+b, a-b)\n",
    "print(perform(3,9))"
   ]
  },
  {
   "cell_type": "code",
   "execution_count": 5,
   "id": "cae46ab4-b0d0-41dc-a80a-6d3f773b3653",
   "metadata": {},
   "outputs": [
    {
     "name": "stdout",
     "output_type": "stream",
     "text": [
      "10\n"
     ]
    }
   ],
   "source": [
    "double = lambda x : x*2\n",
    "print(double(5))"
   ]
  },
  {
   "cell_type": "code",
   "execution_count": 6,
   "id": "4ac3416f-b593-421d-aabd-db73207eaced",
   "metadata": {},
   "outputs": [
    {
     "name": "stdout",
     "output_type": "stream",
     "text": [
      "[68, 132, 88, 66, 46]\n"
     ]
    }
   ],
   "source": [
    "number = [34,66,44,33,23]\n",
    "result = map(lambda x : x*2,number)\n",
    "print(list(result))"
   ]
  },
  {
   "cell_type": "code",
   "execution_count": 8,
   "id": "11cf706a-ac96-49e6-83a7-c9f0f969a959",
   "metadata": {},
   "outputs": [
    {
     "name": "stdout",
     "output_type": "stream",
     "text": [
      "[2, 24]\n"
     ]
    }
   ],
   "source": [
    "number = [45,33,2,53,24,23]\n",
    "result = filter(lambda x : x%2==0 , number)\n",
    "print(list(result))"
   ]
  },
  {
   "cell_type": "raw",
   "id": "f86eb9c7-01f9-4638-89cb-3a34f0d3d70f",
   "metadata": {},
   "source": []
  },
  {
   "cell_type": "code",
   "execution_count": 12,
   "id": "00e1f5c8-762e-4831-8b2c-e546bb6dfea4",
   "metadata": {},
   "outputs": [
    {
     "name": "stdout",
     "output_type": "stream",
     "text": [
      "hello we are leaving in ujjain and learning python\n"
     ]
    }
   ],
   "source": [
    "a = \"hello we are leaving in ujjain and learning python\"\n",
    "print(a)"
   ]
  },
  {
   "cell_type": "code",
   "execution_count": 15,
   "id": "e0dab4cc-ae66-4ed0-a028-133bb090328b",
   "metadata": {},
   "outputs": [
    {
     "name": "stdout",
     "output_type": "stream",
     "text": [
      "n\n",
      "t\n"
     ]
    }
   ],
   "source": [
    "a = \"hello students\"\n",
    "print(a[11])\n",
    "print(a[-2])"
   ]
  },
  {
   "cell_type": "code",
   "execution_count": 29,
   "id": "1e99215c-8138-4f49-88b9-33f5db78a7b2",
   "metadata": {},
   "outputs": [
    {
     "name": "stdout",
     "output_type": "stream",
     "text": [
      "hello\n",
      "students how\n",
      "hlosuet o \n",
      " uoy era woh stneduts olleh\n",
      "27\n",
      "HELLO STUDENTS HOW ARE YOU \n",
      "hello students how are you \n",
      "hi students how are you \n",
      "19\n",
      "Hello students how are you \n",
      "2\n"
     ]
    }
   ],
   "source": [
    "s = \"hello students how are you \"\n",
    "print(s[0:5])\n",
    "print(s[6:18])\n",
    "print(s[0:20:2])\n",
    "print(s[::-1])\n",
    "print(len(s))\n",
    "print(s.upper())\n",
    "print(s.lower())\n",
    "print(s.replace(\"hello\",\"hi\"))\n",
    "print(s.find(\"are\"))\n",
    "print(s.capitalize())\n",
    "print(s.count(\"h\"))\n"
   ]
  },
  {
   "cell_type": "code",
   "execution_count": 51,
   "id": "e0afb5e2-c3ad-4f32-99d3-758a3ec79c76",
   "metadata": {},
   "outputs": [
    {
     "name": "stdout",
     "output_type": "stream",
     "text": [
      "['apple', 'banana', 'cheery', 'mango', 'apple']\n",
      "5\n",
      "['apple', 'pineple', 'cheery', 'mango', 'apple']\n",
      "['apple', 'mango', 'cheery', 'pineple', 'apple']\n"
     ]
    }
   ],
   "source": [
    "# python list\n",
    "mylist = [\"apple\", \"banana\",\"cheery\",\"mango\",\"apple\"] # duplicates are allowed\n",
    "print(mylist)\n",
    "print(len(mylist))\n",
    "mylist[1] = \"pineple\"\n",
    "print(mylist)\n",
    "mylist.reverse()\n",
    "print(mylist)\n"
   ]
  },
  {
   "cell_type": "code",
   "execution_count": 45,
   "id": "75af8d12-ef8b-42bc-b7b1-def0b0065435",
   "metadata": {},
   "outputs": [
    {
     "name": "stdout",
     "output_type": "stream",
     "text": [
      "12\n",
      "2634\n",
      "2634\n",
      "[12, 12, 134, 234, 24]\n",
      "[234, 24, 2634]\n"
     ]
    }
   ],
   "source": [
    "a = [12,12,134,234,24,2634,3434]\n",
    "print(a[0])\n",
    "print(a[5])\n",
    "print(a[-2])\n",
    "print(a[0:5])\n",
    "print(a[3:6])\n"
   ]
  },
  {
   "cell_type": "code",
   "execution_count": 49,
   "id": "ec624266-37f8-4a9d-b0ef-9cd68aae7276",
   "metadata": {},
   "outputs": [
    {
     "name": "stdout",
     "output_type": "stream",
     "text": [
      "[22, 3442, 445, 33, -9]\n"
     ]
    }
   ],
   "source": [
    "a = [22,3442,445,33,2]\n",
    "a.append(-9)\n",
    "a.remove(2)\n",
    "print(a)"
   ]
  },
  {
   "cell_type": "code",
   "execution_count": 52,
   "id": "1ded5310-a387-4d3f-ab26-34bff73b27e0",
   "metadata": {},
   "outputs": [
    {
     "name": "stdout",
     "output_type": "stream",
     "text": [
      "[21, 22, 23, 23, 455, 523, 563]\n"
     ]
    }
   ],
   "source": [
    "a = [23,23,455,563,523,22,21]\n",
    "a.sort()\n",
    "print(a)"
   ]
  },
  {
   "cell_type": "code",
   "execution_count": 53,
   "id": "f0581532-f7b5-4aba-a546-158c84fb14bf",
   "metadata": {},
   "outputs": [
    {
     "name": "stdout",
     "output_type": "stream",
     "text": [
      "[1, 'green', 2, 3, 2, 3, 2]\n"
     ]
    }
   ],
   "source": [
    "a = [1,2,3,2,3,2]\n",
    "a.insert(1,\"green\")\n",
    "print(a)"
   ]
  },
  {
   "cell_type": "code",
   "execution_count": 54,
   "id": "2691818d-df83-4b49-85f0-4e8c5337a525",
   "metadata": {},
   "outputs": [
    {
     "name": "stdout",
     "output_type": "stream",
     "text": [
      "[1, 2, 3, 4, 5, 3, 4, 5, 6, 7]\n"
     ]
    }
   ],
   "source": [
    "a= [1,2,3,4,5]\n",
    "b= [3,4,5,6,7]\n",
    "print(a+b)"
   ]
  },
  {
   "cell_type": "code",
   "execution_count": 15,
   "id": "45b48433-4530-4816-a3d8-a5ba070cc5ac",
   "metadata": {},
   "outputs": [
    {
     "name": "stdout",
     "output_type": "stream",
     "text": [
      "(1, 2, 3, 4, 'tuple')\n",
      "<class 'tuple'>\n",
      "(1, 2, 3, 4, 'tuple', 12, 445, 24, 22)\n"
     ]
    }
   ],
   "source": [
    "a = (1,2,3,4,\"tuple\")\n",
    "b= (12,445,24,22)\n",
    "print(a)\n",
    "print(type(a))\n",
    "print(a+b)\n",
    "     "
   ]
  },
  {
   "cell_type": "code",
   "execution_count": 5,
   "id": "1ad04df3-3f22-4f84-b212-049491fee285",
   "metadata": {},
   "outputs": [
    {
     "name": "stdout",
     "output_type": "stream",
     "text": [
      "('a', 'b', 'C')\n",
      "(1, (4, 5, 6), ['data', 'phone'], 45)\n"
     ]
    }
   ],
   "source": [
    "a =(1,(4,5,6),[\"data\",\"phone\"],45)\n",
    "b= ((\"a\",\"b\",\"C\"))\n",
    "print(b)\n",
    "print(a)"
   ]
  },
  {
   "cell_type": "code",
   "execution_count": 11,
   "id": "ff48b065-3923-4bf1-b0a2-7cb1b85add29",
   "metadata": {},
   "outputs": [
    {
     "name": "stdout",
     "output_type": "stream",
     "text": [
      "86\n",
      "34\n",
      "(47, 553, 86)\n",
      "(34, 86, 34, 553, 55, 47)\n"
     ]
    }
   ],
   "source": [
    "a = (47,55,553,34,86,34)\n",
    "print(a[4])\n",
    "print(a[-1])\n",
    "print(a[::2])\n",
    "print(a[::-1])"
   ]
  },
  {
   "cell_type": "code",
   "execution_count": 14,
   "id": "096c355f-d754-4809-a85a-30a573d4a671",
   "metadata": {},
   "outputs": [
    {
     "name": "stdout",
     "output_type": "stream",
     "text": [
      "[1, 12, 34, 56, 43, 67, 45]\n",
      "1\n",
      "12\n",
      "34\n",
      "56\n",
      "43\n",
      "67\n",
      "45\n"
     ]
    }
   ],
   "source": [
    "a=(1,12,34,56,43,67,88)\n",
    "b = list(a)\n",
    "b.append(45)\n",
    "b.remove(88)\n",
    "a = tuple(b)\n",
    "print(b)\n",
    "for x in a:\n",
    "    print(x)\n"
   ]
  },
  {
   "cell_type": "code",
   "execution_count": 21,
   "id": "32576076-0ff5-42f7-b531-d9d2a8562ebb",
   "metadata": {},
   "outputs": [
    {
     "name": "stdout",
     "output_type": "stream",
     "text": [
      "{'a': 'ramu', 'ID': 124455, 'dob': 2002}\n"
     ]
    }
   ],
   "source": [
    "a ={\n",
    "    \"a\" :\"ramu\",\n",
    "    \"ID\" :124455,\n",
    "    \"dob\" : 2002\n",
    "}\n",
    "print(a)"
   ]
  },
  {
   "cell_type": "code",
   "execution_count": 30,
   "id": "29318d03-b6df-4700-b45e-a6fce069a866",
   "metadata": {},
   "outputs": [
    {
     "name": "stdout",
     "output_type": "stream",
     "text": [
      "{'name': 'karna', 'age': 35, 'eligible': True}\n",
      "karna\n",
      "3\n",
      "{'name': 'prabhu', 'age': 35, 'eligible': True}\n",
      "{'name': 'prabhu', 'age': 35, 'eligible': False}\n",
      "None\n"
     ]
    }
   ],
   "source": [
    "info = {\"name\":\"karna\",\"age\": 35 ,\"eligible\":True}\n",
    "print(info)\n",
    "print(info['name'])\n",
    "print(len(info))\n",
    "info['name'] = \"prabhu\"\n",
    "print(info)\n",
    "info.update({\"eligible\":False})\n",
    "print(info)\n",
    "info.pop(\"name\")\n",
    "print(info.clear())\n",
    "del info\n"
   ]
  },
  {
   "cell_type": "code",
   "execution_count": 38,
   "id": "a56d61e8-189f-45e2-9d69-99860cf6711d",
   "metadata": {},
   "outputs": [
    {
     "name": "stdout",
     "output_type": "stream",
     "text": [
      "{34, 'Carla', 553, 'Sunny', 'MIami'}\n",
      "5\n",
      "True\n",
      "34\n",
      "Carla\n",
      "553\n",
      "Sunny\n",
      "MIami\n"
     ]
    }
   ],
   "source": [
    "# sets\n",
    "a = {34,553,\"Carla\",\"Sunny\",\"MIami\"}\n",
    "print(a)\n",
    "print(len(a))\n",
    "# print(a[1]) -- unordered hai\n",
    "print(\"Carla\" in a)\n",
    "for x in a:\n",
    "    print(x)\n",
    "    "
   ]
  },
  {
   "cell_type": "code",
   "execution_count": 37,
   "id": "6f11fe0d-c269-4904-8d44-76c478350b53",
   "metadata": {},
   "outputs": [
    {
     "name": "stdout",
     "output_type": "stream",
     "text": [
      "<class 'set'>\n"
     ]
    }
   ],
   "source": [
    "this= set({45,45,34})\n",
    "print(type(this))"
   ]
  },
  {
   "cell_type": "code",
   "execution_count": 42,
   "id": "6998a816-c3bd-4692-8b1b-5ea74c4f657b",
   "metadata": {},
   "outputs": [
    {
     "name": "stdout",
     "output_type": "stream",
     "text": [
      "{355, 446, 40, 42, 332, 3422}\n",
      "355\n",
      "None\n"
     ]
    }
   ],
   "source": [
    "a = {34,42,446,3422,355,332}\n",
    "a.add(40)\n",
    "a.remove(34)\n",
    "print(a)\n",
    "print(a.pop())\n",
    "print(a.clear())"
   ]
  },
  {
   "cell_type": "code",
   "execution_count": 1,
   "id": "94f5ce26-d47b-4fc6-a5b8-08d1839999a6",
   "metadata": {},
   "outputs": [
    {
     "name": "stdout",
     "output_type": "stream",
     "text": [
      "3542\n",
      "33\n",
      "{33, 3532, 45, 76}\n",
      "{33, 34, 66, 584, 3532, 45, 78, 76, 3542}\n"
     ]
    }
   ],
   "source": [
    "a= {34,3542,66,78,584}\n",
    "b= {45,76,45,3532,33}\n",
    "a.update(b)\n",
    "a.union(b)\n",
    "print(max(a))\n",
    "print(min(b))\n",
    "print(a.intersection(b))\n",
    "print(a)"
   ]
  },
  {
   "cell_type": "code",
   "execution_count": 2,
   "id": "aacf2812-dc06-4cee-89fc-5957c26ddc41",
   "metadata": {},
   "outputs": [
    {
     "name": "stdin",
     "output_type": "stream",
     "text": [
      "Enter A NUmber 10\n",
      "Enter Another Number 2\n"
     ]
    },
    {
     "name": "stdout",
     "output_type": "stream",
     "text": [
      "5.0\n",
      "This block always Execute\n"
     ]
    }
   ],
   "source": [
    "x = int(input(\"Enter A NUmber\"))\n",
    "y = int(input(\"Enter Another Number\"))\n",
    "try:\n",
    "    z = x/y\n",
    "    print(z)\n",
    "except:\n",
    "    print(\"Sorry Cant divide with zero PLeae Put some Another Number\")\n",
    "finally:\n",
    "    print(\"This block always Execute\")"
   ]
  },
  {
   "cell_type": "code",
   "execution_count": 9,
   "id": "46221517-cec6-46f3-a035-1effd16e044a",
   "metadata": {},
   "outputs": [
    {
     "name": "stdout",
     "output_type": "stream",
     "text": [
      "3.12.7 | packaged by Anaconda, Inc. | (main, Oct  4 2024, 13:17:27) [MSC v.1929 64 bit (AMD64)]\n",
      "2.449489742783178\n",
      "4\n",
      "C:\\Users\\rajve\n"
     ]
    }
   ],
   "source": [
    "import math\n",
    "import sys\n",
    "import random\n",
    "import os\n",
    "print(sys.version)\n",
    "print(math.sqrt(6))\n",
    "print(random.randint(1,10))\n",
    "print(os.getcwd())"
   ]
  },
  {
   "cell_type": "code",
   "execution_count": 22,
   "id": "43f1fdf3-19fe-4627-8564-16ac61bbb4a2",
   "metadata": {},
   "outputs": [],
   "source": [
    "with open(\"abc.txt\",\"w\") as f:\n",
    "    f.write(\"Hello my name is rajveer and i am senior Analyst \")\n",
    "    f.write(\"this file contains nothing\")\n",
    "    "
   ]
  },
  {
   "cell_type": "code",
   "execution_count": 20,
   "id": "7280559b-c336-4506-a597-2f16e1bf14d5",
   "metadata": {},
   "outputs": [
    {
     "name": "stdout",
     "output_type": "stream",
     "text": [
      "Hello my name is rajveer and i am senior Analyst this file contains nothing\n",
      "the file doesnt Exists\n"
     ]
    }
   ],
   "source": [
    "try:\n",
    "    f = open(\"abc.txt\",\"r\")\n",
    "    print(f.read())\n",
    "   # print(f.readlines())\n",
    "except:\n",
    "    print(\"the file doesnt Exists\")\n",
    "f.close()"
   ]
  },
  {
   "cell_type": "code",
   "execution_count": 24,
   "id": "f5573d40-2594-445a-b5e4-a35804f7ac22",
   "metadata": {},
   "outputs": [],
   "source": [
    "with open(\"abc.txt\",\"a\") as f:\n",
    "    f.write(\"I forgot to write someyhing so i append it there okay\")"
   ]
  },
  {
   "cell_type": "code",
   "execution_count": 25,
   "id": "d36b334a-72b8-4a2b-aa4d-c66ef49212a3",
   "metadata": {},
   "outputs": [
    {
     "name": "stdout",
     "output_type": "stream",
     "text": [
      "Hello my name is rajveer and i am senior Analyst this file contains nothingI forgot to write someyhing so i append it there okay\n"
     ]
    }
   ],
   "source": [
    "with open(\"abc.txt\",\"r\") as f:\n",
    "    print(f.read())"
   ]
  },
  {
   "cell_type": "code",
   "execution_count": 28,
   "id": "92772a92-d5b0-4383-b70f-88e4de1cc1aa",
   "metadata": {},
   "outputs": [
    {
     "name": "stdout",
     "output_type": "stream",
     "text": [
      "1\n",
      "[1 2]\n",
      "8\n",
      "[1 2 3 4]\n",
      "[1 3 5]\n",
      "[1 3 4 5]\n"
     ]
    }
   ],
   "source": [
    "import numpy as np\n",
    "arr = np.array([1,2,3,4,5])\n",
    "arr\n",
    "print(arr[0])\n",
    "print(arr[0:2])\n",
    "print(arr[0] + arr[2] + arr[3])\n",
    "print(arr[0:4])\n",
    "print(arr[::2])\n",
    "d = np.delete(arr,[1])\n",
    "print(d)"
   ]
  },
  {
   "cell_type": "code",
   "execution_count": 3,
   "id": "8276fdf0-6e9d-4cfa-89cd-2fe6248eba73",
   "metadata": {},
   "outputs": [
    {
     "data": {
      "text/plain": [
       "1"
      ]
     },
     "execution_count": 3,
     "metadata": {},
     "output_type": "execute_result"
    }
   ],
   "source": [
    "arr.ndim\n"
   ]
  },
  {
   "cell_type": "code",
   "execution_count": 4,
   "id": "5ad433f1-b918-42ce-b648-7179a4559daf",
   "metadata": {},
   "outputs": [
    {
     "name": "stdout",
     "output_type": "stream",
     "text": [
      "80\n"
     ]
    }
   ],
   "source": [
    "arrzero = np.array(80)\n",
    "print(arrzero)"
   ]
  },
  {
   "cell_type": "code",
   "execution_count": 25,
   "id": "2b4203ff-0980-479f-8bb8-0d1169729d39",
   "metadata": {},
   "outputs": [
    {
     "name": "stdout",
     "output_type": "stream",
     "text": [
      "[[1 2 3 4 5]\n",
      " [6 7 8 9 5]]\n",
      "10\n",
      "80\n",
      "8\n",
      "int64\n",
      "[1 2 3 4 5]\n",
      "[6 7 8 9 5]\n",
      "2\n",
      "(5,)\n"
     ]
    }
   ],
   "source": [
    "arr2 = np.array([[1,2,3,4,5],[6,7,8,9,5]])\n",
    "print(arr2)\n",
    "print(arr2.size)\n",
    "print(arr2.nbytes)\n",
    "print(arr2.itemsize)\n",
    "print(arr2.dtype)\n",
    "print(arr2[0,:])\n",
    "print(arr2[1,:])\n",
    "print(arr2.ndim)\n",
    "print(arr.shape)"
   ]
  },
  {
   "cell_type": "code",
   "execution_count": 26,
   "id": "5c5a21c6-2fbc-4dec-86f0-579279e6ca64",
   "metadata": {},
   "outputs": [
    {
     "name": "stdout",
     "output_type": "stream",
     "text": [
      "[[[ 1  2  3]\n",
      "  [ 4  5  6]]\n",
      "\n",
      " [[23 45 43]\n",
      "  [55 66 44]]]\n",
      "3\n",
      "(5,)\n"
     ]
    }
   ],
   "source": [
    "arr3 = np.array([[[1,2,3],[4,5,6]],[[23,45,43],[55,66,44]]])\n",
    "print(arr3)\n",
    "print(arr3.ndim)\n",
    "print(arr.shape)"
   ]
  },
  {
   "cell_type": "code",
   "execution_count": 19,
   "id": "4ffb67c1-e183-4e3d-83ac-3520e33166fc",
   "metadata": {},
   "outputs": [
    {
     "name": "stdout",
     "output_type": "stream",
     "text": [
      "[[[[[1 2 3]]]]]\n",
      "5\n"
     ]
    }
   ],
   "source": [
    "arr5 = np.array([1,2,3],ndmin=(5))\n",
    "print(arr5)\n",
    "print(arr5.ndim)"
   ]
  },
  {
   "cell_type": "code",
   "execution_count": 10,
   "id": "9582da86-4be7-4102-b200-3f15f3d3eaea",
   "metadata": {},
   "outputs": [
    {
     "name": "stdout",
     "output_type": "stream",
     "text": [
      "80\n"
     ]
    }
   ],
   "source": [
    "import numpy as np\n",
    "c = np.array([[10,20,30,40],[50,60,70,80]])\n",
    "print(c[1,3])\n"
   ]
  },
  {
   "cell_type": "code",
   "execution_count": 14,
   "id": "737bdd3a-ad66-4d96-89e3-5900be22175a",
   "metadata": {},
   "outputs": [
    {
     "name": "stdout",
     "output_type": "stream",
     "text": [
      "6\n",
      "8\n",
      "6\n",
      "int32\n"
     ]
    }
   ],
   "source": [
    "import numpy as np\n",
    "j = np.array([[[1,2,3],[4,5,6]],[[7,8,9],[6,7,8]]])\n",
    "print(j[0,1,2])\n",
    "print(j[1,1,2])\n",
    "print(j[1,1,0])\n",
    "print(j.dtype)"
   ]
  },
  {
   "cell_type": "code",
   "execution_count": 20,
   "id": "2ce05144-5e4c-424a-b775-360f14b635df",
   "metadata": {},
   "outputs": [
    {
     "name": "stdout",
     "output_type": "stream",
     "text": [
      "[1 2 3 4 5 6 7 8]\n"
     ]
    }
   ],
   "source": [
    "arr1 = ([1,2,3,4])\n",
    "arr2 =  ([5,6,7,8])\n",
    "arr = np.concatenate((arr1,arr2),axis =0)\n",
    "print(arr)"
   ]
  },
  {
   "cell_type": "code",
   "execution_count": 21,
   "id": "1e192391-9dfa-40cd-a942-e2acbf92f42e",
   "metadata": {},
   "outputs": [
    {
     "name": "stdout",
     "output_type": "stream",
     "text": [
      "[array([1, 2, 3]), array([ 4, 56]), array([7, 9])]\n"
     ]
    }
   ],
   "source": [
    "arr = np.array([1,2,3,4,56,7,9])\n",
    "newarr = np.array_split(arr,3)\n",
    "print(newarr)"
   ]
  },
  {
   "cell_type": "code",
   "execution_count": 24,
   "id": "88a1ac12-746f-4316-bb43-d4dffbe990f8",
   "metadata": {},
   "outputs": [
    {
     "name": "stdout",
     "output_type": "stream",
     "text": [
      "[    1     2     3     4     4     5   322     1     3    53   532     2\n",
      "    54 32323    53    22]\n",
      "[    1     2     3     4     4     5   322     1     3    53   532     2\n",
      "    54 32323    53    22]\n"
     ]
    }
   ],
   "source": [
    "m = np.array([[[1,2,3,4],[4,5,322,1]],[[3,53,532,2],[54,32323,53,22]]])\n",
    "n = m.ravel()\n",
    "print(n)\n",
    "o = m.flatten()\n",
    "print(o)"
   ]
  },
  {
   "cell_type": "code",
   "execution_count": 26,
   "id": "d0d0fa1b-e44e-4ff6-b032-5c3609fa45ac",
   "metadata": {},
   "outputs": [
    {
     "name": "stdout",
     "output_type": "stream",
     "text": [
      "[1 2 3 4 5 6]\n"
     ]
    }
   ],
   "source": [
    "k = np.array([[1,2,3],[4,5,6]])\n",
    "x = np.unique(k)\n",
    "print(x)"
   ]
  },
  {
   "cell_type": "code",
   "execution_count": 2,
   "id": "c8a7fc49-9462-40e1-97b9-1d20bb4843e9",
   "metadata": {},
   "outputs": [
    {
     "name": "stdout",
     "output_type": "stream",
     "text": [
      "0      1\n",
      "1      2\n",
      "2     34\n",
      "3    543\n",
      "4    223\n",
      "5    234\n",
      "6     77\n",
      "dtype: int64\n"
     ]
    }
   ],
   "source": [
    "import pandas as pd\n",
    "s = pd.Series([1,2,34,543,223,234,77])\n",
    "print(s)"
   ]
  },
  {
   "cell_type": "code",
   "execution_count": 5,
   "id": "1284e34e-efcf-4e9e-ad85-11362b79eb4b",
   "metadata": {},
   "outputs": [
    {
     "name": "stdout",
     "output_type": "stream",
     "text": [
      "0       2\n",
      "1      42\n",
      "2       4\n",
      "3     277\n",
      "4      43\n",
      "5    5342\n",
      "6      33\n",
      "0       1\n",
      "1       2\n",
      "2      42\n",
      "3      45\n",
      "4      34\n",
      "5      43\n",
      "6      55\n",
      "dtype: int64\n",
      "0         2\n",
      "1        84\n",
      "2       168\n",
      "3     12465\n",
      "4      1462\n",
      "5    229706\n",
      "6      1815\n",
      "dtype: int64\n"
     ]
    }
   ],
   "source": [
    "m1 = pd.Series([2,42,4,277,43,5342,33])\n",
    "m2 = pd.Series([1,2,42,45,34,43,55])\n",
    "m3 = pd.concat([m1,m2])\n",
    "print(m3)\n",
    "print(m1*m2)\n"
   ]
  },
  {
   "cell_type": "code",
   "execution_count": 9,
   "id": "c9260562-c545-4739-80ce-053cd9c6f335",
   "metadata": {},
   "outputs": [
    {
     "name": "stdout",
     "output_type": "stream",
     "text": [
      "             Name  Marks     Sports\n",
      "0  Rajveer Singhh     88    Cricket\n",
      "1  Rajveer Singhh     77   football\n",
      "2  Rajveer Singhh     99  vollyball\n"
     ]
    }
   ],
   "source": [
    "import pandas as pd\n",
    "d = {\n",
    "    \"Name\" : \"Rajveer Singhh\",\n",
    "    \"Marks\" : [88,77,99],\n",
    "    \"Sports\" : [\"Cricket\",\"football\",\"vollyball\"]\n",
    "}\n",
    "s = pd.DataFrame(d)\n",
    "print(s)"
   ]
  },
  {
   "cell_type": "code",
   "execution_count": 16,
   "id": "56c2c5a1-32a0-480a-9e98-04cbb069275c",
   "metadata": {},
   "outputs": [
    {
     "name": "stdout",
     "output_type": "stream",
     "text": [
      "   A  B\n",
      "0  1  4\n",
      "1  2  5\n",
      "2  3  6\n",
      "3  4  7\n",
      "   A  B   C\n",
      "0  1  4   5\n",
      "1  2  5   7\n",
      "2  3  6   9\n",
      "3  4  7  11\n",
      "   A  python  B   C\n",
      "0  1       1  4   5\n",
      "1  2       2  5   7\n",
      "2  3       3  6   9\n",
      "3  4       4  7  11\n",
      "   python  B   C\n",
      "0       1  4   5\n",
      "1       2  5   7\n",
      "2       3  6   9\n",
      "3       4  7  11\n"
     ]
    }
   ],
   "source": [
    "var = pd.DataFrame(\n",
    "    {\n",
    "        \"A\": [1,2,3,4],\n",
    "        \"B\": [4,5,6,7]\n",
    "             }\n",
    ")\n",
    "print(var)\n",
    "var[\"C\"] = var[\"A\"] + var[\"B\"]\n",
    "print(var)\n",
    "var.insert(1,\"python\",var[\"A\"])\n",
    "print(var)\n",
    "del var[\"A\"]\n",
    "print(var)"
   ]
  },
  {
   "cell_type": "code",
   "execution_count": 8,
   "id": "2954211b-7568-433c-beea-2a55465a4d1a",
   "metadata": {},
   "outputs": [
    {
     "name": "stdout",
     "output_type": "stream",
     "text": [
      "     Name   Age\n",
      "0   Alice  23.0\n",
      "1     Bob   NaN\n",
      "2  Jarvis  25.0\n",
      "3  Mahesh  23.0\n",
      "\n",
      "     Name   Age\n",
      "0   Alice  23.0\n",
      "2  Jarvis  25.0\n",
      "3  Mahesh  23.0\n",
      "\n",
      "     Name   Age\n",
      "2  Jarvis  25.0\n",
      "0   Alice  23.0\n",
      "3  Mahesh  23.0\n",
      "1     Bob   NaN\n",
      "\n",
      "         Age\n",
      "Name        \n",
      "Alice   23.0\n",
      "Bob      NaN\n",
      "Jarvis  25.0\n",
      "Mahesh  23.0\n"
     ]
    }
   ],
   "source": [
    "import pandas as pd\n",
    "data ={\n",
    "    'Name':['Alice','Bob','Jarvis','Mahesh'],\n",
    "    'Age' :[23,None,25,23]\n",
    "}\n",
    "df = pd.DataFrame(data)\n",
    "cleaned = df.dropna()\n",
    "unique = df.drop_duplicates()\n",
    "print(unique)\n",
    "print()\n",
    "print(cleaned)\n",
    "print()\n",
    "sorted = df.sort_values(by= 'Age',ascending = False)\n",
    "print(sorted)\n",
    "print()\n",
    "grouped = df.groupby('Name').mean()\n",
    "print(grouped)"
   ]
  },
  {
   "cell_type": "code",
   "execution_count": 14,
   "id": "7975535e-6889-4f0d-9eb9-1d8a0168a6c4",
   "metadata": {},
   "outputs": [
    {
     "name": "stdout",
     "output_type": "stream",
     "text": [
      "         Name  Age\n",
      "0       alice   45\n",
      "1         bob   44\n",
      "0         ram   77\n",
      "1  ghanshayam   54\n",
      "\n",
      "Empty DataFrame\n",
      "Columns: [Name_x, Age, Name_y]\n",
      "Index: []\n"
     ]
    }
   ],
   "source": [
    "df1 = pd.DataFrame({\n",
    "    'Name' : ['alice','bob'],\n",
    "    'Age': [45,44]\n",
    "})\n",
    "df2 = pd.DataFrame({\n",
    "    'Name':['ram','ghanshayam'],\n",
    "    'Age':[77,54]\n",
    "})\n",
    "result = pd.concat([df1,df2])\n",
    "print(result)\n",
    "print()\n",
    "merged = pd.merge(df1,df2, on = 'Age')\n",
    "print(merged)\n"
   ]
  },
  {
   "cell_type": "code",
   "execution_count": 17,
   "id": "631cfd9f-6c2c-4b42-8d02-e14c58a3679c",
   "metadata": {},
   "outputs": [
    {
     "data": {
      "image/png": "[encoded data removed]",
      "text/plain": [
       "<Figure size 640x480 with 1 Axes>"
      ]
     },
     "metadata": {},
     "output_type": "display_data"
    }
   ],
   "source": [
    "import matplotlib.pyplot as plt\n",
    "x = [1,2,3,4]\n",
    "y = [2,8,9,5]\n",
    "plt.title(\"Linear Graph\")\n",
    "plt.plot(x,y)\n",
    "plt.show()"
   ]
  },
  {
   "cell_type": "code",
   "execution_count": 18,
   "id": "1482b94d-5eb8-4684-bcab-cc6deee8168b",
   "metadata": {},
   "outputs": [
    {
     "data": {
      "image/png": "[encoded data removed]",
      "text/plain": [
       "<Figure size 640x480 with 1 Axes>"
      ]
     },
     "metadata": {},
     "output_type": "display_data"
    }
   ],
   "source": [
    "x = [1,2,3,4]\n",
    "y = [2,8,9,5]\n",
    "c = 'r'\n",
    "plt.title(\"Linear Graph\")\n",
    "plt.plot(x,y,c)\n",
    "plt.show()"
   ]
  },
  {
   "cell_type": "code",
   "execution_count": 23,
   "id": "3fbe17dd-3de9-44fb-8806-fc2e13563d9a",
   "metadata": {},
   "outputs": [
    {
     "ename": "ValueError",
     "evalue": "Unrecognized marker style '-'",
     "output_type": "error",
     "traceback": [
      "\u001b[1;31m---------------------------------------------------------------------------\u001b[0m",
      "\u001b[1;31mValueError\u001b[0m                                Traceback (most recent call last)",
      "File \u001b[1;32m~\\AppData\\Roaming\\Python\\Python312\\site-packages\\matplotlib\\markers.py:326\u001b[0m, in \u001b[0;36mMarkerStyle._set_marker\u001b[1;34m(self, marker)\u001b[0m\n\u001b[0;32m    325\u001b[0m \u001b[38;5;28;01mtry\u001b[39;00m:\n\u001b[1;32m--> 326\u001b[0m     \u001b[43mPath\u001b[49m\u001b[43m(\u001b[49m\u001b[43mmarker\u001b[49m\u001b[43m)\u001b[49m\n\u001b[0;32m    327\u001b[0m     \u001b[38;5;28mself\u001b[39m\u001b[38;5;241m.\u001b[39m_marker_function \u001b[38;5;241m=\u001b[39m \u001b[38;5;28mself\u001b[39m\u001b[38;5;241m.\u001b[39m_set_vertices\n",
      "File \u001b[1;32m~\\AppData\\Roaming\\Python\\Python312\\site-packages\\matplotlib\\path.py:129\u001b[0m, in \u001b[0;36mPath.__init__\u001b[1;34m(self, vertices, codes, _interpolation_steps, closed, readonly)\u001b[0m\n\u001b[0;32m    101\u001b[0m \u001b[38;5;250m\u001b[39m\u001b[38;5;124;03m\"\"\"\u001b[39;00m\n\u001b[0;32m    102\u001b[0m \u001b[38;5;124;03mCreate a new path with the given vertices and codes.\u001b[39;00m\n\u001b[0;32m    103\u001b[0m \n\u001b[1;32m   (...)\u001b[0m\n\u001b[0;32m    127\u001b[0m \u001b[38;5;124;03m    and codes as read-only arrays.\u001b[39;00m\n\u001b[0;32m    128\u001b[0m \u001b[38;5;124;03m\"\"\"\u001b[39;00m\n\u001b[1;32m--> 129\u001b[0m vertices \u001b[38;5;241m=\u001b[39m \u001b[43m_to_unmasked_float_array\u001b[49m\u001b[43m(\u001b[49m\u001b[43mvertices\u001b[49m\u001b[43m)\u001b[49m\n\u001b[0;32m    130\u001b[0m _api\u001b[38;5;241m.\u001b[39mcheck_shape((\u001b[38;5;28;01mNone\u001b[39;00m, \u001b[38;5;241m2\u001b[39m), vertices\u001b[38;5;241m=\u001b[39mvertices)\n",
      "File \u001b[1;32m~\\AppData\\Roaming\\Python\\Python312\\site-packages\\matplotlib\\cbook.py:1398\u001b[0m, in \u001b[0;36m_to_unmasked_float_array\u001b[1;34m(x)\u001b[0m\n\u001b[0;32m   1397\u001b[0m \u001b[38;5;28;01melse\u001b[39;00m:\n\u001b[1;32m-> 1398\u001b[0m     \u001b[38;5;28;01mreturn\u001b[39;00m \u001b[43mnp\u001b[49m\u001b[38;5;241;43m.\u001b[39;49m\u001b[43masarray\u001b[49m\u001b[43m(\u001b[49m\u001b[43mx\u001b[49m\u001b[43m,\u001b[49m\u001b[43m \u001b[49m\u001b[38;5;28;43mfloat\u001b[39;49m\u001b[43m)\u001b[49m\n",
      "\u001b[1;31mValueError\u001b[0m: could not convert string to float: '-'",
      "\nThe above exception was the direct cause of the following exception:\n",
      "\u001b[1;31mValueError\u001b[0m                                Traceback (most recent call last)",
      "Cell \u001b[1;32mIn[23], line 4\u001b[0m\n\u001b[0;32m      2\u001b[0m y \u001b[38;5;241m=\u001b[39m [\u001b[38;5;241m6\u001b[39m,\u001b[38;5;241m7\u001b[39m,\u001b[38;5;241m8\u001b[39m,\u001b[38;5;241m5\u001b[39m,\u001b[38;5;241m4\u001b[39m]\n\u001b[0;32m      3\u001b[0m plt\u001b[38;5;241m.\u001b[39mplot(x,y)\n\u001b[1;32m----> 4\u001b[0m \u001b[43mplt\u001b[49m\u001b[38;5;241;43m.\u001b[39;49m\u001b[43mplot\u001b[49m\u001b[43m(\u001b[49m\u001b[43my\u001b[49m\u001b[43m,\u001b[49m\u001b[43m \u001b[49m\u001b[43mcolor\u001b[49m\u001b[43m \u001b[49m\u001b[38;5;241;43m=\u001b[39;49m\u001b[43m \u001b[49m\u001b[38;5;124;43m\"\u001b[39;49m\u001b[38;5;124;43myellow\u001b[39;49m\u001b[38;5;124;43m\"\u001b[39;49m\u001b[43m \u001b[49m\u001b[43m,\u001b[49m\u001b[43m \u001b[49m\u001b[43mmarker\u001b[49m\u001b[43m \u001b[49m\u001b[38;5;241;43m=\u001b[39;49m\u001b[43m \u001b[49m\u001b[38;5;124;43m'\u001b[39;49m\u001b[38;5;124;43m-\u001b[39;49m\u001b[38;5;124;43m'\u001b[39;49m\u001b[43m)\u001b[49m\n\u001b[0;32m      5\u001b[0m plt\u001b[38;5;241m.\u001b[39mplot(x, color \u001b[38;5;241m=\u001b[39m \u001b[38;5;124m\"\u001b[39m\u001b[38;5;124mgreen\u001b[39m\u001b[38;5;124m\"\u001b[39m , marker \u001b[38;5;241m=\u001b[39m \u001b[38;5;124m'\u001b[39m\u001b[38;5;124m>\u001b[39m\u001b[38;5;124m'\u001b[39m)\n\u001b[0;32m      6\u001b[0m plt\u001b[38;5;241m.\u001b[39mshow()\n",
      "File \u001b[1;32m~\\AppData\\Roaming\\Python\\Python312\\site-packages\\matplotlib\\pyplot.py:3794\u001b[0m, in \u001b[0;36mplot\u001b[1;34m(scalex, scaley, data, *args, **kwargs)\u001b[0m\n\u001b[0;32m   3786\u001b[0m \u001b[38;5;129m@_copy_docstring_and_deprecators\u001b[39m(Axes\u001b[38;5;241m.\u001b[39mplot)\n\u001b[0;32m   3787\u001b[0m \u001b[38;5;28;01mdef\u001b[39;00m \u001b[38;5;21mplot\u001b[39m(\n\u001b[0;32m   3788\u001b[0m     \u001b[38;5;241m*\u001b[39margs: \u001b[38;5;28mfloat\u001b[39m \u001b[38;5;241m|\u001b[39m ArrayLike \u001b[38;5;241m|\u001b[39m \u001b[38;5;28mstr\u001b[39m,\n\u001b[1;32m   (...)\u001b[0m\n\u001b[0;32m   3792\u001b[0m     \u001b[38;5;241m*\u001b[39m\u001b[38;5;241m*\u001b[39mkwargs,\n\u001b[0;32m   3793\u001b[0m ) \u001b[38;5;241m-\u001b[39m\u001b[38;5;241m>\u001b[39m \u001b[38;5;28mlist\u001b[39m[Line2D]:\n\u001b[1;32m-> 3794\u001b[0m     \u001b[38;5;28;01mreturn\u001b[39;00m \u001b[43mgca\u001b[49m\u001b[43m(\u001b[49m\u001b[43m)\u001b[49m\u001b[38;5;241;43m.\u001b[39;49m\u001b[43mplot\u001b[49m\u001b[43m(\u001b[49m\n\u001b[0;32m   3795\u001b[0m \u001b[43m        \u001b[49m\u001b[38;5;241;43m*\u001b[39;49m\u001b[43margs\u001b[49m\u001b[43m,\u001b[49m\n\u001b[0;32m   3796\u001b[0m \u001b[43m        \u001b[49m\u001b[43mscalex\u001b[49m\u001b[38;5;241;43m=\u001b[39;49m\u001b[43mscalex\u001b[49m\u001b[43m,\u001b[49m\n\u001b[0;32m   3797\u001b[0m \u001b[43m        \u001b[49m\u001b[43mscaley\u001b[49m\u001b[38;5;241;43m=\u001b[39;49m\u001b[43mscaley\u001b[49m\u001b[43m,\u001b[49m\n\u001b[0;32m   3798\u001b[0m \u001b[43m        \u001b[49m\u001b[38;5;241;43m*\u001b[39;49m\u001b[38;5;241;43m*\u001b[39;49m\u001b[43m(\u001b[49m\u001b[43m{\u001b[49m\u001b[38;5;124;43m\"\u001b[39;49m\u001b[38;5;124;43mdata\u001b[39;49m\u001b[38;5;124;43m\"\u001b[39;49m\u001b[43m:\u001b[49m\u001b[43m \u001b[49m\u001b[43mdata\u001b[49m\u001b[43m}\u001b[49m\u001b[43m \u001b[49m\u001b[38;5;28;43;01mif\u001b[39;49;00m\u001b[43m \u001b[49m\u001b[43mdata\u001b[49m\u001b[43m \u001b[49m\u001b[38;5;129;43;01mis\u001b[39;49;00m\u001b[43m \u001b[49m\u001b[38;5;129;43;01mnot\u001b[39;49;00m\u001b[43m \u001b[49m\u001b[38;5;28;43;01mNone\u001b[39;49;00m\u001b[43m \u001b[49m\u001b[38;5;28;43;01melse\u001b[39;49;00m\u001b[43m \u001b[49m\u001b[43m{\u001b[49m\u001b[43m}\u001b[49m\u001b[43m)\u001b[49m\u001b[43m,\u001b[49m\n\u001b[0;32m   3799\u001b[0m \u001b[43m        \u001b[49m\u001b[38;5;241;43m*\u001b[39;49m\u001b[38;5;241;43m*\u001b[39;49m\u001b[43mkwargs\u001b[49m\u001b[43m,\u001b[49m\n\u001b[0;32m   3800\u001b[0m \u001b[43m    \u001b[49m\u001b[43m)\u001b[49m\n",
      "File \u001b[1;32m~\\AppData\\Roaming\\Python\\Python312\\site-packages\\matplotlib\\axes\\_axes.py:1779\u001b[0m, in \u001b[0;36mAxes.plot\u001b[1;34m(self, scalex, scaley, data, *args, **kwargs)\u001b[0m\n\u001b[0;32m   1536\u001b[0m \u001b[38;5;250m\u001b[39m\u001b[38;5;124;03m\"\"\"\u001b[39;00m\n\u001b[0;32m   1537\u001b[0m \u001b[38;5;124;03mPlot y versus x as lines and/or markers.\u001b[39;00m\n\u001b[0;32m   1538\u001b[0m \n\u001b[1;32m   (...)\u001b[0m\n\u001b[0;32m   1776\u001b[0m \u001b[38;5;124;03m(``'green'``) or hex strings (``'#008000'``).\u001b[39;00m\n\u001b[0;32m   1777\u001b[0m \u001b[38;5;124;03m\"\"\"\u001b[39;00m\n\u001b[0;32m   1778\u001b[0m kwargs \u001b[38;5;241m=\u001b[39m cbook\u001b[38;5;241m.\u001b[39mnormalize_kwargs(kwargs, mlines\u001b[38;5;241m.\u001b[39mLine2D)\n\u001b[1;32m-> 1779\u001b[0m lines \u001b[38;5;241m=\u001b[39m [\u001b[38;5;241m*\u001b[39m\u001b[38;5;28mself\u001b[39m\u001b[38;5;241m.\u001b[39m_get_lines(\u001b[38;5;28mself\u001b[39m, \u001b[38;5;241m*\u001b[39margs, data\u001b[38;5;241m=\u001b[39mdata, \u001b[38;5;241m*\u001b[39m\u001b[38;5;241m*\u001b[39mkwargs)]\n\u001b[0;32m   1780\u001b[0m \u001b[38;5;28;01mfor\u001b[39;00m line \u001b[38;5;129;01min\u001b[39;00m lines:\n\u001b[0;32m   1781\u001b[0m     \u001b[38;5;28mself\u001b[39m\u001b[38;5;241m.\u001b[39madd_line(line)\n",
      "File \u001b[1;32m~\\AppData\\Roaming\\Python\\Python312\\site-packages\\matplotlib\\axes\\_base.py:296\u001b[0m, in \u001b[0;36m_process_plot_var_args.__call__\u001b[1;34m(self, axes, data, *args, **kwargs)\u001b[0m\n\u001b[0;32m    294\u001b[0m     this \u001b[38;5;241m+\u001b[39m\u001b[38;5;241m=\u001b[39m args[\u001b[38;5;241m0\u001b[39m],\n\u001b[0;32m    295\u001b[0m     args \u001b[38;5;241m=\u001b[39m args[\u001b[38;5;241m1\u001b[39m:]\n\u001b[1;32m--> 296\u001b[0m \u001b[38;5;28;01myield from\u001b[39;00m \u001b[38;5;28;43mself\u001b[39;49m\u001b[38;5;241;43m.\u001b[39;49m\u001b[43m_plot_args\u001b[49m\u001b[43m(\u001b[49m\n\u001b[0;32m    297\u001b[0m \u001b[43m    \u001b[49m\u001b[43maxes\u001b[49m\u001b[43m,\u001b[49m\u001b[43m \u001b[49m\u001b[43mthis\u001b[49m\u001b[43m,\u001b[49m\u001b[43m \u001b[49m\u001b[43mkwargs\u001b[49m\u001b[43m,\u001b[49m\u001b[43m \u001b[49m\u001b[43mambiguous_fmt_datakey\u001b[49m\u001b[38;5;241;43m=\u001b[39;49m\u001b[43mambiguous_fmt_datakey\u001b[49m\u001b[43m)\u001b[49m\n",
      "File \u001b[1;32m~\\AppData\\Roaming\\Python\\Python312\\site-packages\\matplotlib\\axes\\_base.py:534\u001b[0m, in \u001b[0;36m_process_plot_var_args._plot_args\u001b[1;34m(self, axes, tup, kwargs, return_kwargs, ambiguous_fmt_datakey)\u001b[0m\n\u001b[0;32m    532\u001b[0m     \u001b[38;5;28;01mreturn\u001b[39;00m \u001b[38;5;28mlist\u001b[39m(result)\n\u001b[0;32m    533\u001b[0m \u001b[38;5;28;01melse\u001b[39;00m:\n\u001b[1;32m--> 534\u001b[0m     \u001b[38;5;28;01mreturn\u001b[39;00m \u001b[43m[\u001b[49m\u001b[43ml\u001b[49m\u001b[43m[\u001b[49m\u001b[38;5;241;43m0\u001b[39;49m\u001b[43m]\u001b[49m\u001b[43m \u001b[49m\u001b[38;5;28;43;01mfor\u001b[39;49;00m\u001b[43m \u001b[49m\u001b[43ml\u001b[49m\u001b[43m \u001b[49m\u001b[38;5;129;43;01min\u001b[39;49;00m\u001b[43m \u001b[49m\u001b[43mresult\u001b[49m\u001b[43m]\u001b[49m\n",
      "File \u001b[1;32m~\\AppData\\Roaming\\Python\\Python312\\site-packages\\matplotlib\\axes\\_base.py:527\u001b[0m, in \u001b[0;36m<genexpr>\u001b[1;34m(.0)\u001b[0m\n\u001b[0;32m    522\u001b[0m \u001b[38;5;28;01melse\u001b[39;00m:\n\u001b[0;32m    523\u001b[0m     \u001b[38;5;28;01mraise\u001b[39;00m \u001b[38;5;167;01mValueError\u001b[39;00m(\n\u001b[0;32m    524\u001b[0m         \u001b[38;5;124mf\u001b[39m\u001b[38;5;124m\"\u001b[39m\u001b[38;5;124mlabel must be scalar or have the same length as the input \u001b[39m\u001b[38;5;124m\"\u001b[39m\n\u001b[0;32m    525\u001b[0m         \u001b[38;5;124mf\u001b[39m\u001b[38;5;124m\"\u001b[39m\u001b[38;5;124mdata, but found \u001b[39m\u001b[38;5;132;01m{\u001b[39;00m\u001b[38;5;28mlen\u001b[39m(label)\u001b[38;5;132;01m}\u001b[39;00m\u001b[38;5;124m for \u001b[39m\u001b[38;5;132;01m{\u001b[39;00mn_datasets\u001b[38;5;132;01m}\u001b[39;00m\u001b[38;5;124m datasets.\u001b[39m\u001b[38;5;124m\"\u001b[39m)\n\u001b[1;32m--> 527\u001b[0m result \u001b[38;5;241m=\u001b[39m (\u001b[43mmake_artist\u001b[49m\u001b[43m(\u001b[49m\u001b[43maxes\u001b[49m\u001b[43m,\u001b[49m\u001b[43m \u001b[49m\u001b[43mx\u001b[49m\u001b[43m[\u001b[49m\u001b[43m:\u001b[49m\u001b[43m,\u001b[49m\u001b[43m \u001b[49m\u001b[43mj\u001b[49m\u001b[43m \u001b[49m\u001b[38;5;241;43m%\u001b[39;49m\u001b[43m \u001b[49m\u001b[43mncx\u001b[49m\u001b[43m]\u001b[49m\u001b[43m,\u001b[49m\u001b[43m \u001b[49m\u001b[43my\u001b[49m\u001b[43m[\u001b[49m\u001b[43m:\u001b[49m\u001b[43m,\u001b[49m\u001b[43m \u001b[49m\u001b[43mj\u001b[49m\u001b[43m \u001b[49m\u001b[38;5;241;43m%\u001b[39;49m\u001b[43m \u001b[49m\u001b[43mncy\u001b[49m\u001b[43m]\u001b[49m\u001b[43m,\u001b[49m\u001b[43m \u001b[49m\u001b[43mkw\u001b[49m\u001b[43m,\u001b[49m\n\u001b[0;32m    528\u001b[0m \u001b[43m                      \u001b[49m\u001b[43m{\u001b[49m\u001b[38;5;241;43m*\u001b[39;49m\u001b[38;5;241;43m*\u001b[39;49m\u001b[43mkwargs\u001b[49m\u001b[43m,\u001b[49m\u001b[43m \u001b[49m\u001b[38;5;124;43m'\u001b[39;49m\u001b[38;5;124;43mlabel\u001b[39;49m\u001b[38;5;124;43m'\u001b[39;49m\u001b[43m:\u001b[49m\u001b[43m \u001b[49m\u001b[43mlabel\u001b[49m\u001b[43m}\u001b[49m\u001b[43m)\u001b[49m\n\u001b[0;32m    529\u001b[0m           \u001b[38;5;28;01mfor\u001b[39;00m j, label \u001b[38;5;129;01min\u001b[39;00m \u001b[38;5;28menumerate\u001b[39m(labels))\n\u001b[0;32m    531\u001b[0m \u001b[38;5;28;01mif\u001b[39;00m return_kwargs:\n\u001b[0;32m    532\u001b[0m     \u001b[38;5;28;01mreturn\u001b[39;00m \u001b[38;5;28mlist\u001b[39m(result)\n",
      "File \u001b[1;32m~\\AppData\\Roaming\\Python\\Python312\\site-packages\\matplotlib\\axes\\_base.py:335\u001b[0m, in \u001b[0;36m_process_plot_var_args._makeline\u001b[1;34m(self, axes, x, y, kw, kwargs)\u001b[0m\n\u001b[0;32m    333\u001b[0m kw \u001b[38;5;241m=\u001b[39m {\u001b[38;5;241m*\u001b[39m\u001b[38;5;241m*\u001b[39mkw, \u001b[38;5;241m*\u001b[39m\u001b[38;5;241m*\u001b[39mkwargs}  \u001b[38;5;66;03m# Don't modify the original kw.\u001b[39;00m\n\u001b[0;32m    334\u001b[0m \u001b[38;5;28mself\u001b[39m\u001b[38;5;241m.\u001b[39m_setdefaults(\u001b[38;5;28mself\u001b[39m\u001b[38;5;241m.\u001b[39m_getdefaults(kw), kw)\n\u001b[1;32m--> 335\u001b[0m seg \u001b[38;5;241m=\u001b[39m \u001b[43mmlines\u001b[49m\u001b[38;5;241;43m.\u001b[39;49m\u001b[43mLine2D\u001b[49m\u001b[43m(\u001b[49m\u001b[43mx\u001b[49m\u001b[43m,\u001b[49m\u001b[43m \u001b[49m\u001b[43my\u001b[49m\u001b[43m,\u001b[49m\u001b[43m \u001b[49m\u001b[38;5;241;43m*\u001b[39;49m\u001b[38;5;241;43m*\u001b[39;49m\u001b[43mkw\u001b[49m\u001b[43m)\u001b[49m\n\u001b[0;32m    336\u001b[0m \u001b[38;5;28;01mreturn\u001b[39;00m seg, kw\n",
      "File \u001b[1;32m~\\AppData\\Roaming\\Python\\Python312\\site-packages\\matplotlib\\lines.py:380\u001b[0m, in \u001b[0;36mLine2D.__init__\u001b[1;34m(self, xdata, ydata, linewidth, linestyle, color, gapcolor, marker, markersize, markeredgewidth, markeredgecolor, markerfacecolor, markerfacecoloralt, fillstyle, antialiased, dash_capstyle, solid_capstyle, dash_joinstyle, solid_joinstyle, pickradius, drawstyle, markevery, **kwargs)\u001b[0m\n\u001b[0;32m    378\u001b[0m     marker \u001b[38;5;241m=\u001b[39m \u001b[38;5;124m'\u001b[39m\u001b[38;5;124mnone\u001b[39m\u001b[38;5;124m'\u001b[39m  \u001b[38;5;66;03m# Default.\u001b[39;00m\n\u001b[0;32m    379\u001b[0m \u001b[38;5;28;01mif\u001b[39;00m \u001b[38;5;129;01mnot\u001b[39;00m \u001b[38;5;28misinstance\u001b[39m(marker, MarkerStyle):\n\u001b[1;32m--> 380\u001b[0m     \u001b[38;5;28mself\u001b[39m\u001b[38;5;241m.\u001b[39m_marker \u001b[38;5;241m=\u001b[39m \u001b[43mMarkerStyle\u001b[49m\u001b[43m(\u001b[49m\u001b[43mmarker\u001b[49m\u001b[43m,\u001b[49m\u001b[43m \u001b[49m\u001b[43mfillstyle\u001b[49m\u001b[43m)\u001b[49m\n\u001b[0;32m    381\u001b[0m \u001b[38;5;28;01melse\u001b[39;00m:\n\u001b[0;32m    382\u001b[0m     \u001b[38;5;28mself\u001b[39m\u001b[38;5;241m.\u001b[39m_marker \u001b[38;5;241m=\u001b[39m marker\n",
      "File \u001b[1;32m~\\AppData\\Roaming\\Python\\Python312\\site-packages\\matplotlib\\markers.py:248\u001b[0m, in \u001b[0;36mMarkerStyle.__init__\u001b[1;34m(self, marker, fillstyle, transform, capstyle, joinstyle)\u001b[0m\n\u001b[0;32m    246\u001b[0m \u001b[38;5;28mself\u001b[39m\u001b[38;5;241m.\u001b[39m_user_joinstyle \u001b[38;5;241m=\u001b[39m JoinStyle(joinstyle) \u001b[38;5;28;01mif\u001b[39;00m joinstyle \u001b[38;5;129;01mis\u001b[39;00m \u001b[38;5;129;01mnot\u001b[39;00m \u001b[38;5;28;01mNone\u001b[39;00m \u001b[38;5;28;01melse\u001b[39;00m \u001b[38;5;28;01mNone\u001b[39;00m\n\u001b[0;32m    247\u001b[0m \u001b[38;5;28mself\u001b[39m\u001b[38;5;241m.\u001b[39m_set_fillstyle(fillstyle)\n\u001b[1;32m--> 248\u001b[0m \u001b[38;5;28;43mself\u001b[39;49m\u001b[38;5;241;43m.\u001b[39;49m\u001b[43m_set_marker\u001b[49m\u001b[43m(\u001b[49m\u001b[43mmarker\u001b[49m\u001b[43m)\u001b[49m\n",
      "File \u001b[1;32m~\\AppData\\Roaming\\Python\\Python312\\site-packages\\matplotlib\\markers.py:329\u001b[0m, in \u001b[0;36mMarkerStyle._set_marker\u001b[1;34m(self, marker)\u001b[0m\n\u001b[0;32m    327\u001b[0m         \u001b[38;5;28mself\u001b[39m\u001b[38;5;241m.\u001b[39m_marker_function \u001b[38;5;241m=\u001b[39m \u001b[38;5;28mself\u001b[39m\u001b[38;5;241m.\u001b[39m_set_vertices\n\u001b[0;32m    328\u001b[0m     \u001b[38;5;28;01mexcept\u001b[39;00m \u001b[38;5;167;01mValueError\u001b[39;00m \u001b[38;5;28;01mas\u001b[39;00m err:\n\u001b[1;32m--> 329\u001b[0m         \u001b[38;5;28;01mraise\u001b[39;00m \u001b[38;5;167;01mValueError\u001b[39;00m(\n\u001b[0;32m    330\u001b[0m             \u001b[38;5;124mf\u001b[39m\u001b[38;5;124m'\u001b[39m\u001b[38;5;124mUnrecognized marker style \u001b[39m\u001b[38;5;132;01m{\u001b[39;00mmarker\u001b[38;5;132;01m!r}\u001b[39;00m\u001b[38;5;124m'\u001b[39m) \u001b[38;5;28;01mfrom\u001b[39;00m \u001b[38;5;21;01merr\u001b[39;00m\n\u001b[0;32m    332\u001b[0m \u001b[38;5;28;01mif\u001b[39;00m \u001b[38;5;129;01mnot\u001b[39;00m \u001b[38;5;28misinstance\u001b[39m(marker, MarkerStyle):\n\u001b[0;32m    333\u001b[0m     \u001b[38;5;28mself\u001b[39m\u001b[38;5;241m.\u001b[39m_marker \u001b[38;5;241m=\u001b[39m marker\n",
      "\u001b[1;31mValueError\u001b[0m: Unrecognized marker style '-'"
     ]
    },
    {
     "data": {
      "image/png": "[encoded data removed]",
      "text/plain": [
       "<Figure size 640x480 with 1 Axes>"
      ]
     },
     "metadata": {},
     "output_type": "display_data"
    }
   ],
   "source": [
    "x = [5,3,8,7,6]\n",
    "y = [6,7,8,5,4]\n",
    "plt.plot(x,y, color = 'yellow' , marker = '-')\n",
    "plt.show()"
   ]
  },
  {
   "cell_type": "code",
   "execution_count": null,
   "id": "b4348306-95f8-46f3-b323-aac1d20cc2e5",
   "metadata": {},
   "outputs": [],
   "source": []
  }
 ],
 "metadata": {
  "kernelspec": {
   "display_name": "Python 3 (ipykernel)",
   "language": "python",
   "name": "python3"
  },
  "language_info": {
   "codemirror_mode": {
    "name": "ipython",
    "version": 3
   },
   "file_extension": ".py",
   "mimetype": "text/x-python",
   "name": "python",
   "nbconvert_exporter": "python",
   "pygments_lexer": "ipython3",
   "version": "3.12.7"
  }
 },
 "nbformat": 4,
 "nbformat_minor": 5
}
